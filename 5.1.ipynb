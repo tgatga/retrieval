{
 "cells": [
  {
   "cell_type": "code",
   "execution_count": 15,
   "metadata": {},
   "outputs": [],
   "source": [
    "import numpy as np"
   ]
  },
  {
   "cell_type": "code",
   "execution_count": 16,
   "metadata": {},
   "outputs": [
    {
     "data": {
      "text/plain": [
       "(0.8, 0.2)"
      ]
     },
     "execution_count": 16,
     "metadata": {},
     "output_type": "execute_result"
    }
   ],
   "source": [
    "spam = 0.2 * 0 + 0.5 * 1 + 1 * 0 + 1 * 0 + 0 * 0 + 0.4 * 0 + 0.3 * 1 + 1 * 0 + 0 * 1 + 0 * 1\n",
    "normal = -0.8 * 0 + 0 * 1 + -1 * 0 + 2 * 0 + 0 * 0 + 1 * 0 + 0.2 * 1 + 1 * 0 + 0 * 1 + 0 * 1\n",
    "spam,normal"
   ]
  },
  {
   "cell_type": "code",
   "execution_count": 18,
   "metadata": {},
   "outputs": [],
   "source": [
    "sp = 1/(1+np.exp(-spam))\n",
    "no = 1/(1+np.exp(-normal))"
   ]
  },
  {
   "cell_type": "code",
   "execution_count": 19,
   "metadata": {},
   "outputs": [
    {
     "name": "stdout",
     "output_type": "stream",
     "text": [
      "classified as spam 0.689974, 0.549834\n"
     ]
    }
   ],
   "source": [
    "if sp>no:\n",
    "    print(\"classified as spam %f, %f\"%(sp,no))\n",
    "else:\n",
    "    print(\"classified as normal %f, %f\"%(no,sp))"
   ]
  },
  {
   "cell_type": "code",
   "execution_count": 20,
   "metadata": {},
   "outputs": [
    {
     "data": {
      "text/plain": [
       "(0.6899744811276125, 0.549833997312478)"
      ]
     },
     "execution_count": 20,
     "metadata": {},
     "output_type": "execute_result"
    }
   ],
   "source": [
    "sp,no"
   ]
  },
  {
   "cell_type": "code",
   "execution_count": null,
   "metadata": {},
   "outputs": [],
   "source": []
  },
  {
   "cell_type": "code",
   "execution_count": null,
   "metadata": {},
   "outputs": [],
   "source": []
  }
 ],
 "metadata": {
  "kernelspec": {
   "display_name": "Python 2",
   "language": "python",
   "name": "python2"
  },
  "language_info": {
   "codemirror_mode": {
    "name": "ipython",
    "version": 2
   },
   "file_extension": ".py",
   "mimetype": "text/x-python",
   "name": "python",
   "nbconvert_exporter": "python",
   "pygments_lexer": "ipython2",
   "version": "2.7.15"
  }
 },
 "nbformat": 4,
 "nbformat_minor": 2
}
