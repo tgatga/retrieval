{
 "cells": [
  {
   "cell_type": "code",
   "execution_count": 1,
   "metadata": {},
   "outputs": [],
   "source": [
    "import numpy as np\n",
    "import sys"
   ]
  },
  {
   "cell_type": "code",
   "execution_count": 2,
   "metadata": {},
   "outputs": [],
   "source": [
    "class PartyNN(object):\n",
    "    \n",
    "    def __init__(self, learning_rate=0.1):\n",
    "        #Fisrt task\n",
    "#         self.weights_0_1 = np.random.normal(0.0, 2 ** -0.5, (3, 3))        \n",
    "#         self.weights_1_2 = np.random.normal(0.0, 1, (1, 3))\n",
    "        #Second task\n",
    "        self.weights_0_1 = np.random.normal(0.0, 2 ** -0.5, (3, 4))        \n",
    "        self.weights_1_2 = np.random.normal(0.0, 1, (1, 3))\n",
    "\n",
    "        #Fisrt task\n",
    "#         self.weights_1_2[0][2] = 1\n",
    "        self.sigmoid_mapper = np.vectorize(self.sigmoid)\n",
    "        self.learning_rate = np.array([learning_rate])\n",
    "\n",
    "    def sigmoid(self, x):\n",
    "        return 1 / (1 + np.exp(-x))\n",
    "    \n",
    "    def predict(self, inputs):\n",
    "        inputs_1 = np.dot(self.weights_0_1, inputs)\n",
    "        outputs_1 = self.sigmoid_mapper(inputs_1)\n",
    "        inputs_2 = np.dot(self.weights_1_2, outputs_1)\n",
    "        outputs_2 = self.sigmoid_mapper(inputs_2)\n",
    "        return outputs_2\n",
    "    \n",
    "    def train(self, inputs, expected_predict):  \n",
    "        inputs_1 = np.dot(self.weights_0_1, inputs)\n",
    "        outputs_1 = self.sigmoid_mapper(inputs_1)\n",
    "        \n",
    "        #Fisrt task\n",
    "#         outputs_1[2] = 1\n",
    "        \n",
    "        inputs_2 = np.dot(self.weights_1_2, outputs_1)\n",
    "        outputs_2 = self.sigmoid_mapper(inputs_2)\n",
    "        actual_predict = outputs_2[0]\n",
    "        error_layer_2 = np.array([actual_predict - expected_predict])\n",
    "        gradient_layer_2 = actual_predict * (1 - actual_predict)\n",
    "        weights_delta_layer_2 = error_layer_2 * gradient_layer_2 \n",
    "        self.weights_1_2 -= (np.dot(weights_delta_layer_2, outputs_1.reshape(1, len(outputs_1)))) * self.learning_rate\n",
    "        error_layer_1 = weights_delta_layer_2 * self.weights_1_2\n",
    "        gradient_layer_1 = outputs_1 * (1 - outputs_1)\n",
    "        weights_delta_layer_1 = error_layer_1 * gradient_layer_1\n",
    "        self.weights_0_1 -= np.dot(inputs.reshape(len(inputs), 1), weights_delta_layer_1).T  * self.learning_rate"
   ]
  },
  {
   "cell_type": "code",
   "execution_count": 3,
   "metadata": {},
   "outputs": [],
   "source": [
    "def MSE(y, Y):\n",
    "    return np.mean((y-Y)**2)"
   ]
  },
  {
   "cell_type": "code",
   "execution_count": 4,
   "metadata": {},
   "outputs": [],
   "source": [
    "\n",
    "#First task\n",
    "# train = [\n",
    "#         ([0, 0, 1], 0),\n",
    "#         ([0, 1, 1], 1),\n",
    "#         ([1, 0, 1], 1),\n",
    "#         ([1, 1, 1], 0)\n",
    "#         ]\n",
    "\n",
    "#Second task\n",
    "train = [\n",
    "        ([1, -1, 0, 0], 0),\n",
    "        ([1, -1, 0, 1], 0),\n",
    "        ([0, -1, 0, 0], 1),\n",
    "        ([-1, 1, 0, 0], 1),\n",
    "        ([-1, 0, 1, 0], 1),\n",
    "        ([-1, 0, 1, 1], 0),\n",
    "        ([0, 0, 1, 1], 1),\n",
    "        ([1, 1, 0, 0], 0),\n",
    "        ([1, 0, 1, 0], 1),\n",
    "        ([-1, 1, 1, 0], 1),\n",
    "        ([1, 1, 1, 1], 1),\n",
    "        ([0, 1, 0, 1], 1),\n",
    "        ([0, -1, 1, 0], 1),\n",
    "        ([-1, 1, 0, 1], 0)\n",
    "        ]\n"
   ]
  },
  {
   "cell_type": "code",
   "execution_count": 12,
   "metadata": {},
   "outputs": [],
   "source": [
    "epochs = 10000\n",
    "learning_rate = 0.1\n",
    "# epochs = 8000\n",
    "# learning_rate = 0.5"
   ]
  },
  {
   "cell_type": "code",
   "execution_count": 13,
   "metadata": {},
   "outputs": [
    {
     "name": "stdout",
     "output_type": "stream",
     "text": [
      "Progress: 99.9, Training loss: 0.001"
     ]
    }
   ],
   "source": [
    "network = PartyNN(learning_rate=learning_rate)\n",
    "\n",
    "for e in range(epochs):\n",
    "    inputs_ = []\n",
    "    correct_predictions = []\n",
    "    for input_stat, correct_predict in train:\n",
    "        network.train(np.array(input_stat), correct_predict)\n",
    "        inputs_.append(np.array(input_stat))\n",
    "        correct_predictions.append(np.array(correct_predict))\n",
    "   \n",
    "    train_loss = MSE(network.predict(np.array(inputs_).T), np.array(correct_predictions))\n",
    "    sys.stdout.write(\"\\rProgress: {}, Training loss: {}\".format(str(100 * e/float(epochs))[:4], str(train_loss)[:5]))"
   ]
  },
  {
   "cell_type": "code",
   "execution_count": 7,
   "metadata": {},
   "outputs": [
    {
     "name": "stdout",
     "output_type": "stream",
     "text": [
      "For input: [1, -1, 0, 0] the prediction is: [False], expected: False\n",
      "For input: [1, -1, 0, 1] the prediction is: [False], expected: False\n",
      "For input: [0, -1, 0, 0] the prediction is: [ True], expected: True\n",
      "For input: [-1, 1, 0, 0] the prediction is: [ True], expected: True\n",
      "For input: [-1, 0, 1, 0] the prediction is: [ True], expected: True\n",
      "For input: [-1, 0, 1, 1] the prediction is: [False], expected: False\n",
      "For input: [0, 0, 1, 1] the prediction is: [ True], expected: True\n",
      "For input: [1, 1, 0, 0] the prediction is: [False], expected: False\n",
      "For input: [1, 0, 1, 0] the prediction is: [ True], expected: True\n",
      "For input: [-1, 1, 1, 0] the prediction is: [ True], expected: True\n",
      "For input: [1, 1, 1, 1] the prediction is: [ True], expected: True\n",
      "For input: [0, 1, 0, 1] the prediction is: [ True], expected: True\n",
      "For input: [0, -1, 1, 0] the prediction is: [ True], expected: True\n",
      "For input: [-1, 1, 0, 1] the prediction is: [False], expected: False\n"
     ]
    }
   ],
   "source": [
    "for input_stat, correct_predict in train:\n",
    "    print(\"For input: {} the prediction is: {}, expected: {}\".format( \n",
    "    str(input_stat),\n",
    "    str(network.predict(np.array(input_stat)) > .5),\n",
    "    str(correct_predict == 1)))"
   ]
  },
  {
   "cell_type": "code",
   "execution_count": 8,
   "metadata": {},
   "outputs": [
    {
     "name": "stdout",
     "output_type": "stream",
     "text": [
      "For input: [1, -1, 0, 0] the prediction is: [0.01913041], expected: False\n",
      "For input: [1, -1, 0, 1] the prediction is: [0.03038157], expected: False\n",
      "For input: [0, -1, 0, 0] the prediction is: [0.93049154], expected: True\n",
      "For input: [-1, 1, 0, 0] the prediction is: [0.96223582], expected: True\n",
      "For input: [-1, 0, 1, 0] the prediction is: [0.96535821], expected: True\n",
      "For input: [-1, 0, 1, 1] the prediction is: [0.06958209], expected: False\n",
      "For input: [0, 0, 1, 1] the prediction is: [0.97017486], expected: True\n",
      "For input: [1, 1, 0, 0] the prediction is: [0.04328628], expected: False\n",
      "For input: [1, 0, 1, 0] the prediction is: [0.97910654], expected: True\n",
      "For input: [-1, 1, 1, 0] the prediction is: [0.98390383], expected: True\n",
      "For input: [1, 1, 1, 1] the prediction is: [0.97132654], expected: True\n",
      "For input: [0, 1, 0, 1] the prediction is: [0.91757609], expected: True\n",
      "For input: [0, -1, 1, 0] the prediction is: [0.99146752], expected: True\n",
      "For input: [-1, 1, 0, 1] the prediction is: [0.04818395], expected: False\n"
     ]
    }
   ],
   "source": [
    "for input_stat, correct_predict in train:\n",
    "    print(\"For input: {} the prediction is: {}, expected: {}\".format(\n",
    "    str(input_stat), \n",
    "    str(network.predict(np.array(input_stat))),\n",
    "    str(correct_predict == 1)))"
   ]
  },
  {
   "cell_type": "code",
   "execution_count": 9,
   "metadata": {},
   "outputs": [
    {
     "data": {
      "text/plain": [
       "array([[-4.3625852 , -6.04990884, -4.55577503,  3.08591882],\n",
       "       [ 7.66399772,  2.01199693, -7.55306363, -5.40321837],\n",
       "       [ 0.36158419, -0.62461157, -0.05441623, -0.80400047]])"
      ]
     },
     "execution_count": 9,
     "metadata": {},
     "output_type": "execute_result"
    }
   ],
   "source": [
    "network.weights_0_1"
   ]
  },
  {
   "cell_type": "code",
   "execution_count": 10,
   "metadata": {},
   "outputs": [
    {
     "data": {
      "text/plain": [
       "array([[-6.53909137, -9.96533098, 15.80516059]])"
      ]
     },
     "execution_count": 10,
     "metadata": {},
     "output_type": "execute_result"
    }
   ],
   "source": [
    "network.weights_1_2"
   ]
  },
  {
   "cell_type": "code",
   "execution_count": null,
   "metadata": {},
   "outputs": [],
   "source": []
  }
 ],
 "metadata": {
  "kernelspec": {
   "display_name": "Python 2",
   "language": "python",
   "name": "python2"
  },
  "language_info": {
   "codemirror_mode": {
    "name": "ipython",
    "version": 2
   },
   "file_extension": ".py",
   "mimetype": "text/x-python",
   "name": "python",
   "nbconvert_exporter": "python",
   "pygments_lexer": "ipython2",
   "version": "2.7.15"
  }
 },
 "nbformat": 4,
 "nbformat_minor": 2
}
