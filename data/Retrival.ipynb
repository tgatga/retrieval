{
 "cells": [
  {
   "cell_type": "code",
   "execution_count": 7,
   "metadata": {},
   "outputs": [
    {
     "name": "stdout",
     "output_type": "stream",
     "text": [
      "['rozm@stanford.edu', '650-723-1614', '650-723-4173', '650-814-1478', 'balaji@stanford.edu', '650-723-4539', '650-724-3648', '650-724-6354', 'cheriton@cs.stanford.edu', 'uma@cs.stanford.edu', '650-723-1131', '650-725-3726', 'dabo@cs.stanford.edu', '650-725-3897', '650-725-4671', 'dlwh@stanford.edu', 'engler@lcs.mit.edu', 'engler@stanford.edu', 'eroberts@cs.stanford.edu', '650-723-3642', '650-723-6092', 'fedkiw@cs.stanford.edu', 'hager@cs.jhu.edu', '410-516-5521', '410-516-5553', '410-516-8000', 'hanrahan@cs.stanford.edu', '650-723-0033', '650-723-8530', '650-725-3707', '650-725-6949', 'jks@robotics.stanford.edu', 'jurafsky@stanford.edu', '650-723-5666', 'kosecka@cs.gmu.edu', '703-993-1710', '703-993-1876', 'darlene@csl.stanford.edu', 'kunle@ogun.stanford.edu', '650-723-1430', '650-725-3713', '650-725-6949', 'lam@cs.stanford.edu', '650-725-3714', '650-725-6949', 'asandra@cs.stanford.edu', 'latombe@cs.stanford.edu', 'liliana@cs.stanford.edu', '650-721-6625', '650-723-0350', '650-723-4137', '650-725-1449', 'ada@graphics.stanford.edu', 'melissa@graphics.stanford.edu', '650-723-0033', '650-724-6865', '650-725-3724', '650-725-4089', 'dbarros@cs.stanford.edu', 'manning@cs.stanford.edu', '650-723-7683', '650-725-1449', '650-725-3358', 'nass@stanford.edu', '650-723-5499', '650-725-2472', '650-725-4727', '650-723-9753', '650-725-1449', 'ouster@cs.stanford.edu', 'pal@cs.stanford.edu', '650-725-9046', '650-723-4377', '650-723-6045', '650-725-4671', 'rinard@lcs.mit.edu', '617-253-1221', '617-258-6922', 'serafim@cs.stanford.edu', '650-723-3334', '650-725-1449', 'shoham@stanford.edu', '650-723-3432', '650-725-1449', 'subh@stanford.edu', 'uma@cs.stanford.edu', '650-724-1915', '650-725-3726', '650-725-6949', 'pkrokel@stanford.edu', '650-725-3383', '650-725-3636', '650-725-3938', '650-724-9147', '650-725-2340', '650-725-4671', 'support@gradiance.com', 'ullman@cs.stanford.edu', '650-494-8016', '650-725-2588', '650-725-4802', 'vladlen@stanford.edu', 'siroker@cs.stanford.edu', 'widom@cs.stanford.edu', '650-723-0872', '650-723-7690', '650-725-2588', 'zelenski@cs.stanford.edu', '650-723-6092', '650-725-8596', 'manna@cs.stanford.edu', '650-723-4364', '650-725-4671']\n"
     ]
    }
   ],
   "source": [
    "import pandas as pd\n",
    "import re\n",
    "import os \n",
    "\n",
    "data = pd.read_csv(\"devGOLD\")\n",
    "matches = []\n",
    "regex = \"\\d{3}-\\d{3}-\\d{4}|(^|\\s)[a-z]+@([a-z]+.)+\"\n",
    "# data.values.ravel()\n",
    "for i in (data.values.ravel()):\n",
    "    f = i.split(\"\\t\")[2]\n",
    "    if re.search(regex, f):\n",
    "        matches.append(f)\n",
    "print(matches)\n"
   ]
  },
  {
   "cell_type": "code",
   "execution_count": null,
   "metadata": {},
   "outputs": [],
   "source": []
  },
  {
   "cell_type": "code",
   "execution_count": 15,
   "metadata": {},
   "outputs": [],
   "source": [
    "import pandas as pd\n",
    "import re\n",
    "import os \n",
    "import glob\n",
    "path = \"dev\"\n",
    "fileNames = []\n",
    "Emails = []\n",
    "Phones = []\n",
    "for bmp_file in glob.glob(os.path.join(path, '*')):\n",
    "    e = []\n",
    "    p = []\n",
    "\n",
    "    my_file = open(bmp_file)\n",
    "    my_string = my_file.read()\n",
    "    \n",
    "    e.append(bmp_file)\n",
    "    p.append(bmp_file)\n",
    "    \n",
    "    number = re.findall(r'\\d{3}-\\d{3}-\\d{4}', my_string.lower())\n",
    "    email = re.findall(r'[a-zA-Z\\.-]+@[\\w\\.-]+', my_string.lower())\n",
    "    \n",
    "    if not email is None:\n",
    "        e.append(email)\n",
    "        Emails.append(e)\n",
    "    if not number is None:\n",
    "        p.append(number)\n",
    "        Phones.append(p)\n",
    "    my_file.close()"
   ]
  },
  {
   "cell_type": "code",
   "execution_count": 13,
   "metadata": {},
   "outputs": [
    {
     "data": {
      "text/plain": [
       "[['dev/manning', []],\n",
       " ['dev/rajeev',\n",
       "  ['650-723-6045', '650-725-4671', '650-723-4377', '650-725-4671']],\n",
       " ['dev/zm', []],\n",
       " ['dev/hager', ['410-516-8000']],\n",
       " ['dev/nick', []],\n",
       " ['dev/cheriton', ['650-723-1131', '650-725-3726']],\n",
       " ['dev/ullman', ['650-725-4802', '650-494-8016', '650-725-2588']],\n",
       " ['dev/jure', []],\n",
       " ['dev/plotkin', []],\n",
       " ['dev/ok', []],\n",
       " ['dev/psyoung', []],\n",
       " ['dev/ouster', []],\n",
       " ['dev/jks', []],\n",
       " ['dev/nickm', []],\n",
       " ['dev/lam', []],\n",
       " ['dev/kunle', []],\n",
       " ['dev/engler', []],\n",
       " ['dev/pal', []],\n",
       " ['dev/eroberts', ['650-723-3642', '650-723-6092']],\n",
       " ['dev/rinard', []],\n",
       " ['dev/thm', []],\n",
       " ['dev/serafim', []],\n",
       " ['dev/balaji', []],\n",
       " ['dev/ashishg', []],\n",
       " ['dev/zelenski', ['650-725-8596', '650-723-6092']],\n",
       " ['dev/knuth', []],\n",
       " ['dev/horowitz', []],\n",
       " ['dev/latombe', []],\n",
       " ['dev/tim', []],\n",
       " ['dev/widom', ['650-723-7690', '650-725-2588', '650-723-0872']],\n",
       " ['dev/dabo', []],\n",
       " ['dev/bgirod', []],\n",
       " ['dev/dlwh', []],\n",
       " ['dev/dm', []],\n",
       " ['dev/vladlen', []],\n",
       " ['dev/fedkiw', []],\n",
       " ['dev/kosecka', []],\n",
       " ['dev/levoy', []],\n",
       " ['dev/christos', []],\n",
       " ['dev/hanrahan', []],\n",
       " ['dev/jurafsky', []],\n",
       " ['dev/aiken', []],\n",
       " ['dev/nass', []],\n",
       " ['dev/koller', []],\n",
       " ['dev/shoham', []]]"
      ]
     },
     "execution_count": 13,
     "metadata": {},
     "output_type": "execute_result"
    }
   ],
   "source": [
    "Phones"
   ]
  },
  {
   "cell_type": "code",
   "execution_count": 14,
   "metadata": {},
   "outputs": [
    {
     "data": {
      "text/plain": [
       "[['dev/manning',\n",
       "  ['manning@cs.stanford.edu',\n",
       "   'manning@cs.stanford.edu',\n",
       "   'dbarros@cs.stanford.edu',\n",
       "   'dbarros@cs.stanford.edu',\n",
       "   'manning@cs.stanford.edu',\n",
       "   'manning@cs.stanford.edu']],\n",
       " ['dev/rajeev', []],\n",
       " ['dev/zm', ['manna@cs.stanford.edu', 'manna@cs.stanford.edu']],\n",
       " ['dev/hager', []],\n",
       " ['dev/nick',\n",
       "  ['nick.parlante@cs.stanford.edu', 'nick.parlante@cs.stanford.edu']],\n",
       " ['dev/cheriton', ['cheriton@cs.stanford.edu', 'uma@cs.stanford.edu']],\n",
       " ['dev/ullman', []],\n",
       " ['dev/jure', []],\n",
       " ['dev/plotkin', []],\n",
       " ['dev/ok', []],\n",
       " ['dev/psyoung', ['patrick.young@stanford.edu', 'patrick.young@stanford.edu']],\n",
       " ['dev/ouster', []],\n",
       " ['dev/jks', []],\n",
       " ['dev/nickm', []],\n",
       " ['dev/lam', []],\n",
       " ['dev/kunle',\n",
       "  ['kunle@ogun.stanford.edu',\n",
       "   'kunle@ogun.stanford.edu',\n",
       "   'darlene@csl.stanford.edu',\n",
       "   'darlene@csl.stanford.edu']],\n",
       " ['dev/engler', ['engler@lcs.mit.edu.']],\n",
       " ['dev/pal', []],\n",
       " ['dev/eroberts', ['eroberts@cs.stanford.edu', 'eroberts@cs.stanford.edu']],\n",
       " ['dev/rinard', ['rinard@lcs.mit.edu']],\n",
       " ['dev/thm', ['pkrokel@stanford.edu', 'pkrokel@stanford.edu']],\n",
       " ['dev/serafim', []],\n",
       " ['dev/balaji', ['balaji@stanford.edu']],\n",
       " ['dev/ashishg', []],\n",
       " ['dev/zelenski', ['zelenski@cs.stanford.edu', 'zelenski@cs.stanford.edu']],\n",
       " ['dev/knuth', []],\n",
       " ['dev/horowitz', []],\n",
       " ['dev/latombe',\n",
       "  ['latombe@cs.stanford.edu',\n",
       "   'latombe@cs.stanford.edu',\n",
       "   'asandra@cs.stanford.edu',\n",
       "   'asandra@cs.stanford.edu',\n",
       "   'liliana@cs.stanford.edu',\n",
       "   'liliana@cs.stanford.edu',\n",
       "   'm@4',\n",
       "   'l@4']],\n",
       " ['dev/tim', []],\n",
       " ['dev/widom', ['siroker@cs.stanford.edu', 'widom@cs.stanford.edu']],\n",
       " ['dev/dabo', ['dabo@cs.stanford.edu']],\n",
       " ['dev/bgirod', []],\n",
       " ['dev/dlwh', ['d-l-w-h-@-s-t-a-n-f-o-r-d-.-e-d-u']],\n",
       " ['dev/dm', []],\n",
       " ['dev/vladlen', []],\n",
       " ['dev/fedkiw', ['fedkiw@cs.stanford.edu', 'fedkiw@cs.stanford.edu']],\n",
       " ['dev/kosecka', ['kosecka@cs.gmu.edu', 'kosecka@cs.gmu.edu']],\n",
       " ['dev/levoy', []],\n",
       " ['dev/christos', []],\n",
       " ['dev/hanrahan',\n",
       "  ['hanrahan@cs.stanford.edu', 'hanrahan@cs.stanford.edu', 'folding@home']],\n",
       " ['dev/jurafsky', []],\n",
       " ['dev/aiken', []],\n",
       " ['dev/nass',\n",
       "  ['nass@stanford.edu',\n",
       "   'nass@stanford.edu',\n",
       "   'nass@stanford.edu',\n",
       "   'nass@stanford.edu']],\n",
       " ['dev/koller', []],\n",
       " ['dev/shoham', ['shoham@stanford.edu', 'shoham@stanford.edu']]]"
      ]
     },
     "execution_count": 14,
     "metadata": {},
     "output_type": "execute_result"
    }
   ],
   "source": [
    "Emails"
   ]
  },
  {
   "cell_type": "code",
   "execution_count": null,
   "metadata": {},
   "outputs": [],
   "source": []
  },
  {
   "cell_type": "code",
   "execution_count": null,
   "metadata": {},
   "outputs": [],
   "source": []
  }
 ],
 "metadata": {
  "kernelspec": {
   "display_name": "Python 2",
   "language": "python",
   "name": "python2"
  },
  "language_info": {
   "codemirror_mode": {
    "name": "ipython",
    "version": 2
   },
   "file_extension": ".py",
   "mimetype": "text/x-python",
   "name": "python",
   "nbconvert_exporter": "python",
   "pygments_lexer": "ipython2",
   "version": "2.7.15"
  }
 },
 "nbformat": 4,
 "nbformat_minor": 2
}
