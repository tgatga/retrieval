{
 "cells": [
  {
   "cell_type": "code",
   "execution_count": null,
   "metadata": {},
   "outputs": [],
   "source": [
    "from nltk.corpus import stopwords\n",
    "from nltk.stem.snowball import SnowballStemmer\n",
    "import os\n",
    "import pandas as pd\n",
    "import math"
   ]
  },
  {
   "cell_type": "code",
   "execution_count": null,
   "metadata": {},
   "outputs": [],
   "source": [
    "stopword = set(stopwords.words('english'))\n",
    "# stopword"
   ]
  },
  {
   "cell_type": "code",
   "execution_count": null,
   "metadata": {},
   "outputs": [],
   "source": [
    "data = pd.read_csv(\"dataset.csv\", delimiter=\",\")"
   ]
  },
  {
   "cell_type": "code",
   "execution_count": 7,
   "metadata": {},
   "outputs": [],
   "source": [
    "X = list(data[\"news\"])\n",
    "y = list(data['type'])"
   ]
  },
  {
   "cell_type": "code",
   "execution_count": 8,
   "metadata": {},
   "outputs": [],
   "source": [
    "import string\n",
    "def clear_punctuation(s):\n",
    "    clear_string = \"\"\n",
    "    for symbol in s:\n",
    "        if symbol not in string.punctuation:\n",
    "            clear_string += symbol\n",
    "    return clear_string"
   ]
  },
  {
   "cell_type": "code",
   "execution_count": 9,
   "metadata": {},
   "outputs": [],
   "source": [
    "index = 0\n",
    "clean = []\n",
    "for line in X:\n",
    "    line = clear_punctuation(line)\n",
    "    line = line.strip(\"/r/n\")\n",
    "    array = line.split(' ')\n",
    "    replaced = ''\n",
    "    for word in array:\n",
    "        if word.lower().strip() not in stopword:\n",
    "            replaced += word+' '\n",
    "    if replaced!='':\n",
    "        replaced=replaced[0:len(replaced)-1]\n",
    "        clean.append(index)\n",
    "    X[index] = replaced\n",
    "    index+=1\n",
    "X_new = []\n",
    "y_new = []\n",
    "for i in clean:\n",
    "    X_new.append(X[i])\n",
    "    y_new.append(y[i])"
   ]
  },
  {
   "cell_type": "code",
   "execution_count": 10,
   "metadata": {},
   "outputs": [],
   "source": [
    "stemmer = SnowballStemmer('english')"
   ]
  },
  {
   "cell_type": "code",
   "execution_count": 11,
   "metadata": {},
   "outputs": [],
   "source": [
    "index = 0\n",
    "for line in X_new:\n",
    "    array = line.split(' ')\n",
    "    replaced = ''\n",
    "    for word in array:\n",
    "        replaced += stemmer.stem(word)+' '\n",
    "    if replaced!='':\n",
    "        replaced=replaced[0:len(replaced)-1]\n",
    "    X_new[index] = replaced\n",
    "    index+=1"
   ]
  },
  {
   "cell_type": "code",
   "execution_count": 12,
   "metadata": {},
   "outputs": [
    {
     "data": {
      "text/plain": [
       "'business'"
      ]
     },
     "execution_count": 12,
     "metadata": {},
     "output_type": "execute_result"
    }
   ],
   "source": [
    "test = X_new[0].split(\" \")\n",
    "label = y_new[0]\n",
    "X_new.pop(0)\n",
    "y_new.pop(0)\n",
    "# test,label"
   ]
  },
  {
   "cell_type": "code",
   "execution_count": 13,
   "metadata": {},
   "outputs": [],
   "source": [
    "vocabulary = set()\n",
    "for line in X_new:\n",
    "    for word in line.split(' '):\n",
    "        vocabulary.add(word)"
   ]
  },
  {
   "cell_type": "code",
   "execution_count": 14,
   "metadata": {},
   "outputs": [
    {
     "data": {
      "text/plain": [
       "28573"
      ]
     },
     "execution_count": 14,
     "metadata": {},
     "output_type": "execute_result"
    }
   ],
   "source": [
    "V = len(vocabulary)\n",
    "V"
   ]
  },
  {
   "cell_type": "code",
   "execution_count": 16,
   "metadata": {},
   "outputs": [
    {
     "data": {
      "text/plain": [
       "(104704, 78313, 110225, 98152, 118452)"
      ]
     },
     "execution_count": 16,
     "metadata": {},
     "output_type": "execute_result"
    }
   ],
   "source": [
    "business, entertainment, politics, sport, tech = 0,0,0,0,0\n",
    "for i in range(len(X_new)):\n",
    "    if y_new[i] == 'business':\n",
    "        business+=len(X_new[i].split(\" \"))\n",
    "    elif y_new[i] == 'entertainment':\n",
    "        entertainment+=len(X_new[i].split(\" \"))\n",
    "    elif y_new[i] == 'politics':\n",
    "        politics+=len(X_new[i].split(\" \"))\n",
    "    elif y_new[i] == 'sport':\n",
    "        sport+=len(X_new[i].split(\" \"))\n",
    "    elif y_new[i] == 'tech':\n",
    "        tech+=len(X_new[i].split(\" \"))\n",
    "business, entertainment, politics, sport, tech"
   ]
  },
  {
   "cell_type": "code",
   "execution_count": 17,
   "metadata": {},
   "outputs": [
    {
     "data": {
      "text/plain": [
       "(0.2289698605488079,\n",
       " 0.17363922627080522,\n",
       " 0.18758434547908232,\n",
       " 0.22941970310391363,\n",
       " 0.18038686459739092)"
      ]
     },
     "execution_count": 17,
     "metadata": {},
     "output_type": "execute_result"
    }
   ],
   "source": [
    "b, e, p, s, t = 0,0,0,0,0\n",
    "for label in y_new:\n",
    "    if label.strip() == 'business':\n",
    "        b+=1\n",
    "    elif label.strip() == 'entertainment':\n",
    "        e+=1\n",
    "    elif label.strip() == 'politics':\n",
    "        p+=1\n",
    "    elif label.strip() == 'sport':\n",
    "        s+=1\n",
    "    elif label.strip() == 'tech':\n",
    "        t+=1\n",
    "prior_business = b/(b+e+p+s+t)\n",
    "prior_entertainment = e/(b+e+p+s+t)\n",
    "prior_politics = p/(b+e+p+s+t)\n",
    "prior_sport = s/(b+e+p+s+t)\n",
    "prior_tech = t/(b+e+p+s+t)\n",
    "prior_business,prior_entertainment,prior_politics,prior_sport,prior_tech"
   ]
  },
  {
   "cell_type": "code",
   "execution_count": 18,
   "metadata": {},
   "outputs": [],
   "source": [
    "business_probs = []\n",
    "entertainment_probs = []\n",
    "politics_probs = []\n",
    "sport_probs = []\n",
    "tech_probs = []\n",
    "for inp_word in test:\n",
    "    count_business_word = 0\n",
    "    count_entertainment_word = 0\n",
    "    count_politics_word = 0\n",
    "    count_sport_word = 0\n",
    "    count_tech_word = 0\n",
    "    for i in range(len(X_new)):\n",
    "        if y_new[i] == 'business':\n",
    "            count_business_word += X_new[i].split(\" \").count(inp_word)\n",
    "        elif y_new[i] == 'entertainment':\n",
    "            count_entertainment_word += X_new[i].split(\" \").count(inp_word)\n",
    "        elif y_new[i] == 'politics':\n",
    "            count_politics_word += X_new[i].split(\" \").count(inp_word)\n",
    "        elif y_new[i] == 'sport':\n",
    "            count_sport_word += X_new[i].split(\" \").count(inp_word)\n",
    "        elif y_new[i] == 'tech':\n",
    "            count_tech_word += X_new[i].split(\" \").count(inp_word)\n",
    "    business_probs.append((count_business_word+1)/(business+V))\n",
    "    entertainment_probs.append((count_entertainment_word+1)/(entertainment+V))\n",
    "    politics_probs.append((count_politics_word+1)/(politics+V))\n",
    "    sport_probs.append((count_sport_word+1)/(sport+V))\n",
    "    tech_probs.append((count_tech_word+1)/(tech+V))"
   ]
  },
  {
   "cell_type": "code",
   "execution_count": 19,
   "metadata": {},
   "outputs": [],
   "source": [
    "prob_is_business = math.log(prior_business) \n",
    "prob_is_entertainment = prior_entertainment\n",
    "prob_is_politics = prior_politics\n",
    "prob_is_sport = prior_sport\n",
    "prob_is_tech = prior_tech\n",
    "for i in range(len(business_probs)):\n",
    "    prob_is_business *= math.log(business_probs[i])\n",
    "    prob_is_entertainment *= math.log(entertainment_probs[i])\n",
    "    prob_is_politics *= math.log(politics_probs[i])\n",
    "    prob_is_sport *= math.log(sport_probs[i])\n",
    "    prob_is_tech *= math.log(tech_probs[i])"
   ]
  },
  {
   "cell_type": "code",
   "execution_count": 20,
   "metadata": {},
   "outputs": [
    {
     "data": {
      "text/plain": [
       "(2.6784818190655337e+176,\n",
       " -2.43664494206232e+189,\n",
       " -7.88486429392349e+184,\n",
       " -4.717241220662203e+190,\n",
       " -1.3320298894620442e+185)"
      ]
     },
     "execution_count": 20,
     "metadata": {},
     "output_type": "execute_result"
    }
   ],
   "source": [
    "prob_is_business,prob_is_entertainment,prob_is_politics,prob_is_sport,prob_is_tech"
   ]
  },
  {
   "cell_type": "code",
   "execution_count": null,
   "metadata": {},
   "outputs": [],
   "source": []
  },
  {
   "cell_type": "code",
   "execution_count": null,
   "metadata": {},
   "outputs": [],
   "source": []
  }
 ],
 "metadata": {
  "kernelspec": {
   "display_name": "Python 2",
   "language": "python",
   "name": "python2"
  },
  "language_info": {
   "codemirror_mode": {
    "name": "ipython",
    "version": 2
   },
   "file_extension": ".py",
   "mimetype": "text/x-python",
   "name": "python",
   "nbconvert_exporter": "python",
   "pygments_lexer": "ipython2",
   "version": "2.7.15"
  }
 },
 "nbformat": 4,
 "nbformat_minor": 2
}
